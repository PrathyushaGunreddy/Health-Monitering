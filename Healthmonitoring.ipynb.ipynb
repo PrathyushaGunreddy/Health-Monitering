{
 "cells": [
  {
   "cell_type": "code",
   "execution_count": null,
   "id": "fbd8df61-7a08-4b23-8e7c-5ee3b5e373bc",
   "metadata": {},
   "outputs": [],
   "source": [
    "import pandas as pd\n",
    "health_data = pd.read_csv('healthmonitoring.csv')\n",
    "print(health_data.head())"
   ]
  },
  {
   "cell_type": "code",
   "execution_count": null,
   "id": "98c053df-7a99-4577-a29e-f70e40144377",
   "metadata": {},
   "outputs": [],
   "source": [
    "health_data.isnull().sum()"
   ]
  },
  {
   "cell_type": "code",
   "execution_count": null,
   "id": "cd635cca-95dc-475f-beee-95a1484e1e89",
   "metadata": {},
   "outputs": [],
   "source": [
    "# calculate medians\n",
    "median_body_temp = health_data['BodyTemperature'].median()\n",
    "median_oxygen_sat = health_data['OxygenSaturation'].median()\n",
    "\n",
    "# fill missing values\n",
    "health_data['BodyTemperature'].fillna(median_body_temp, inplace=True)\n",
    "health_data['OxygenSaturation'].fillna(median_oxygen_sat, inplace=True)"
   ]
  },
  {
   "cell_type": "code",
   "execution_count": null,
   "id": "c86c1b74-c3e9-45cb-bf65-3420b8b9c003",
   "metadata": {},
   "outputs": [],
   "source": [
    "import matplotlib.pyplot as plt\n",
    "import seaborn as sns\n",
    "sns.set(style=\"whitegrid\")\n",
    "\n",
    "# summary statistics\n",
    "summary_stats = health_data.describe()\n",
    "\n",
    "# plotting distributions of numerical features\n",
    "fig, axes = plt.subplots(3, 2, figsize=(14, 18))\n",
    "sns.histplot(health_data['Age'], bins=20, kde=True, ax=axes[0, 0])\n",
    "axes[0, 0].set_title('Age Distribution')\n",
    "\n",
    "sns.histplot(health_data['HeartRate'], bins=20, kde=True, ax=axes[0, 1])\n",
    "axes[0, 1].set_title('Heart Rate Distribution')\n",
    "\n",
    "sns.histplot(health_data['RespiratoryRate'], bins=20, kde=True, ax=axes[1, 0])\n",
    "axes[1, 0].set_title('Respiratory Rate Distribution')\n",
    "\n",
    "sns.histplot(health_data['BodyTemperature'], bins=20, kde=True, ax=axes[1, 1])\n",
    "axes[1, 1].set_title('Body Temperature Distribution')\n",
    "\n",
    "sns.histplot(health_data['OxygenSaturation'], bins=10, kde=True, ax=axes[2, 0])\n",
    "axes[2, 0].set_title('Oxygen Saturation Distribution')\n",
    "\n",
    "fig.delaxes(axes[2,1])  # remove unused subplot\n",
    "\n",
    "plt.tight_layout()\n",
    "plt.show()"
   ]
  },
  {
   "cell_type": "code",
   "execution_count": null,
   "id": "6899f9a8-3e36-4690-a6b0-0b981906ceaf",
   "metadata": {},
   "outputs": [],
   "source": [
    "print(summary_stats)"
   ]
  },
  {
   "cell_type": "code",
   "execution_count": null,
   "id": "f5e0c5b0-e85d-467f-a9b4-324467b551a3",
   "metadata": {},
   "outputs": [],
   "source": [
    "# gender Distribution\n",
    "gender_counts = health_data['Gender'].value_counts()\n",
    "\n",
    "# correlation Matrix for numerical health metrics\n",
    "correlation_matrix = health_data[['Age', 'HeartRate', 'RespiratoryRate', 'BodyTemperature', 'OxygenSaturation']].corr()\n",
    "\n",
    "# plotting the findings\n",
    "fig, axes = plt.subplots(1, 2, figsize=(12, 6))\n",
    "\n",
    "# gender distribution plot\n",
    "gender_counts.plot(kind='pie', ax=axes[0], autopct='%1.1f%%', startangle=90, colors=['#ff9999','#66b3ff'])\n",
    "axes[0].set_ylabel('')\n",
    "axes[0].set_title('Gender Distribution')\n",
    "\n",
    "# correlation matrix plot\n",
    "sns.heatmap(correlation_matrix, annot=True, fmt=\".2f\", cmap='coolwarm', ax=axes[1])\n",
    "axes[1].set_title('Correlation Matrix')\n",
    "\n",
    "plt.tight_layout()\n",
    "plt.show()"
   ]
  },
  {
   "cell_type": "code",
   "execution_count": null,
   "id": "2e616b36-18d8-4728-8d92-735cffc97cf6",
   "metadata": {},
   "outputs": [],
   "source": [
    "# heart Rate by activity level\n",
    "plt.figure(figsize=(10, 6))\n",
    "sns.boxplot(x='ActivityLevel', y='HeartRate', data=health_data)\n",
    "plt.title('Heart Rate by Activity Level')\n",
    "plt.ylabel('Heart Rate (beats per minute)')\n",
    "plt.xlabel('Activity Level')\n",
    "plt.show()"
   ]
  },
  {
   "cell_type": "code",
   "execution_count": null,
   "id": "a267914a-b2c0-4552-b92d-f38543754760",
   "metadata": {},
   "outputs": [],
   "source": [
    "# extracting systolic and diastolic blood pressure for analysis\n",
    "health_data[['SystolicBP', 'DiastolicBP']] = health_data['BloodPressure'].str.split('/', expand=True).astype(int)\n",
    "\n",
    "# blood pressure distribution\n",
    "plt.figure(figsize=(12, 6))\n",
    "sns.histplot(health_data['SystolicBP'], color=\"skyblue\", label=\"Systolic\", kde=True)\n",
    "sns.histplot(health_data['DiastolicBP'], color=\"red\", label=\"Diastolic\", kde=True)\n",
    "plt.title('Blood Pressure Distribution')\n",
    "plt.xlabel('Blood Pressure (mmHg)')\n",
    "plt.legend()\n",
    "plt.show()\n",
    "\n",
    "# health metrics by gender\n",
    "fig, axes = plt.subplots(1, 2, figsize=(14, 6))\n",
    "sns.boxplot(x='Gender', y='HeartRate', data=health_data, ax=axes[0])\n",
    "axes[0].set_title('Heart Rate by Gender')\n",
    "axes[0].set_xlabel('Gender')\n",
    "axes[0].set_ylabel('Heart Rate (beats per minute)')\n",
    "\n",
    "sns.boxplot(x='Gender', y='OxygenSaturation', data=health_data, ax=axes[1])\n",
    "axes[1].set_title('Oxygen Saturation by Gender')\n",
    "axes[1].set_xlabel('Gender')\n",
    "axes[1].set_ylabel('Oxygen Saturation (%)')\n",
    "\n",
    "plt.tight_layout()\n",
    "plt.show()"
   ]
  }
 ],
 "metadata": {
  "kernelspec": {
   "display_name": "Python 3 (ipykernel)",
   "language": "python",
   "name": "python3"
  },
  "language_info": {
   "codemirror_mode": {
    "name": "ipython",
    "version": 3
   },
   "file_extension": ".py",
   "mimetype": "text/x-python",
   "name": "python",
   "nbconvert_exporter": "python",
   "pygments_lexer": "ipython3",
   "version": "3.11.7"
  }
 },
 "nbformat": 4,
 "nbformat_minor": 5
}
